{
 "cells": [
  {
   "cell_type": "code",
   "execution_count": 45,
   "id": "43a1b14b-7bdc-4b7a-8962-e5abe800c267",
   "metadata": {},
   "outputs": [],
   "source": [
    "# Import the necessary modules\n",
    "import numpy as np\n",
    "import matplotlib.pyplot as plt\n",
    "from tensorflow.keras.datasets import mnist"
   ]
  },
  {
   "cell_type": "markdown",
   "id": "c0944510-97e8-4de6-8d93-e470f417b7d5",
   "metadata": {},
   "source": [
    "### Part 1: Preprocessing"
   ]
  },
  {
   "cell_type": "markdown",
   "id": "9484bbb4-f2fd-449c-8774-5f7ccbf2081f",
   "metadata": {},
   "source": [
    "#### Step 1: Load the MNIST Dataset"
   ]
  },
  {
   "cell_type": "code",
   "execution_count": null,
   "id": "544d40e8-a28f-4c95-a73b-084524888a5b",
   "metadata": {},
   "outputs": [],
   "source": [
    "(X_train, _), (X_test, _) = mnist.load_data()\n",
    "print(f\"X_train data: {X_train.shape}\")\n",
    "print(f\"X_test data: {X_test.shape}\")\n",
    "print(X_train[0])"
   ]
  },
  {
   "cell_type": "markdown",
   "id": "babc677e-1013-4ea3-8bc3-bd48b2763c90",
   "metadata": {},
   "source": [
    "#### Step 2: Scale the Data"
   ]
  },
  {
   "cell_type": "code",
   "execution_count": null,
   "id": "a0ce700c-570e-4798-a2e0-306edffc1500",
   "metadata": {},
   "outputs": [],
   "source": [
    "# Constants\n",
    "X_MIN = 0\n",
    "X_MAX = 255\n",
    "\n",
    "def min_max_scaler(X):\n",
    "    X_scaled = (X - X_MIN)/(X_MAX - X_MIN)\n",
    "    return X_scaled\n",
    "\n",
    "X_train_scaled = min_max_scaler(X_train)\n",
    "X_test_scaled = min_max_scaler(X_test)"
   ]
  },
  {
   "cell_type": "markdown",
   "id": "3697309a",
   "metadata": {},
   "source": [
    "#### Step 3: Define Noise Function"
   ]
  },
  {
   "cell_type": "code",
   "execution_count": null,
   "id": "70ed838e",
   "metadata": {},
   "outputs": [],
   "source": [
    "# Add gaussian noise\n",
    "def add_gaussian_noise(X, mean=0.0, std=0.1):\n",
    "    noise = np.random.normal(mean, std, X.shape)\n",
    "    X_noisy = X + noise\n",
    "    return np.clip(X_noisy, 0, 1)  # Ensure values are within [0, 1]"
   ]
  },
  {
   "cell_type": "markdown",
   "id": "253ba905-345f-4a8f-91f6-f6199786e8b6",
   "metadata": {},
   "source": [
    "#### Step 4: Visualize the Data"
   ]
  },
  {
   "cell_type": "code",
   "execution_count": null,
   "id": "7591e41a-c309-4a40-bdd4-7eebd4debe81",
   "metadata": {},
   "outputs": [
    {
     "data": {
      "image/png": "[encoded data removed]",
      "text/plain": [
       "<Figure size 640x480 with 1 Axes>"
      ]
     },
     "metadata": {},
     "output_type": "display_data"
    },
    {
     "data": {
      "image/png": "[encoded data removed]",
      "text/plain": [
       "<Figure size 640x480 with 1 Axes>"
      ]
     },
     "metadata": {},
     "output_type": "display_data"
    }
   ],
   "source": [
    "# Function to display an image\n",
    "def show_image(image):\n",
    "    plt.imshow(image, cmap=\"gray\")\n",
    "    plt.axis(\"off\")\n",
    "    plt.show()\n",
    "\n",
    "show_image(X_train_scaled[0])\n",
    "show_image(add_gaussian_noise(X_train_scaled[0]))"
   ]
  },
  {
   "cell_type": "markdown",
   "id": "0f87d9db-f93d-4ef1-acd9-3d00104fc748",
   "metadata": {},
   "source": [
    "### Part 2: Network Architecture"
   ]
  },
  {
   "cell_type": "markdown",
   "id": "4b226784",
   "metadata": {},
   "source": [
    "#### Step 1: Implement the Layer Classes"
   ]
  },
  {
   "cell_type": "code",
   "execution_count": 47,
   "id": "84887eda-496c-4dc7-ab72-900fee42c038",
   "metadata": {},
   "outputs": [],
   "source": [
    "# Implmenentation of layer classes inspired by Keras \n",
    "class Layer:\n",
    "    def forward(self, inputs):\n",
    "        raise NotImplementedError(\"Forward method not implemented.\")\n",
    "\n",
    "    def backward(self, gradients):\n",
    "        raise NotImplementedError(\"Backward method not implemented.\")\n",
    "        \n",
    "class Dense(Layer):\n",
    "    def __init__(self, input_dim, output_dim):\n",
    "        self.weights = np.random.randn(input_dim, output_dim) * 0.01\n",
    "        self.biases = np.zeros((1, output_dim))\n",
    "\n",
    "    def forward(self, inputs):\n",
    "        self.inputs = inputs\n",
    "        return inputs @ self.weights + self.biases\n",
    "\n",
    "    def backward(self, gradients):\n",
    "        self.dWeights = self.inputs.T @ gradients\n",
    "        self.dBiases = np.sum(gradients, axis=0, keepdims=True)\n",
    "        return gradients @ self.weights.T\n",
    "\n",
    "    def update(self, eta):\n",
    "        self.weights -= eta * self.dWeights\n",
    "        self.biases -= eta * self.dBiases\n",
    "\n",
    "class Relu(Layer):\n",
    "    def forward(self, inputs):\n",
    "        self.inputs = inputs\n",
    "        return np.maximum(0, inputs)\n",
    "\n",
    "    def backward(self, gradients):\n",
    "        return gradients * (self.inputs > 0)\n",
    "\n",
    "class Sigmoid(Layer):\n",
    "    def forward(self, inputs):\n",
    "        self.inputs = inputs\n",
    "        return 1 / (1 + np.exp(-inputs))\n",
    "\n",
    "    def backward(self, gradients):\n",
    "        sig = self.forward(self.inputs)\n",
    "        return gradients * sig * (1 - sig)\n",
    "\n",
    "class MeanSquaredError:\n",
    "    def forward(self, predictions, targets):\n",
    "        self.predictions = predictions\n",
    "        self.targets = targets\n",
    "        return np.mean((predictions - targets) ** 2)\n",
    "\n",
    "    def backward(self):\n",
    "        m = self.targets.shape[0]\n",
    "        return (2 / m) * (self.predictions - self.targets)   \n",
    "\n",
    "class Sequential:\n",
    "    def __init__(self, layers):\n",
    "        self.layers = layers\n",
    "\n",
    "    def forward(self, inputs):\n",
    "        for layer in self.layers:\n",
    "            inputs = layer.forward(inputs)\n",
    "        return inputs\n",
    "\n",
    "    def backward(self, gradients):\n",
    "        for layer in reversed(self.layers):\n",
    "            gradients = layer.backward(gradients)\n",
    "\n",
    "    def update(self, eta):\n",
    "        for layer in self.layers:\n",
    "            if isinstance(layer, Dense):\n",
    "                layer.update(eta)"
   ]
  },
  {
   "cell_type": "markdown",
   "id": "722ba7de",
   "metadata": {},
   "source": [
    "#### Step 2: Define the Training Loop"
   ]
  },
  {
   "cell_type": "code",
   "execution_count": null,
   "id": "a1605cd9",
   "metadata": {},
   "outputs": [],
   "source": [
    "def train(model, loss_function, X_train, y_train, epochs=10, eta=0.01):\n",
    "    for epoch in range(epochs):\n",
    "        predictions = model.forward(X_train)\n",
    "        loss = loss_function.forward(predictions, y_train)\n",
    "        gradients = loss_function.backward()\n",
    "        model.backward(gradients)\n",
    "        model.update(eta)\n",
    "        print(f\"Epoch {epoch + 1}/{epochs}, Loss: {loss:.4f}\")\n",
    "\n",
    "def predict(model, X):\n",
    "    return model.forward(X)"
   ]
  },
  {
   "cell_type": "markdown",
   "id": "e2134ecb",
   "metadata": {},
   "source": [
    "#### Step 3: Begin Training"
   ]
  },
  {
   "cell_type": "code",
   "execution_count": 44,
   "id": "367b2d12",
   "metadata": {},
   "outputs": [
    {
     "name": "stdout",
     "output_type": "stream",
     "text": [
      "Epoch 1/100, Loss: 0.2313\n",
      "Epoch 2/100, Loss: 0.2272\n",
      "Epoch 3/100, Loss: 0.2231\n",
      "Epoch 4/100, Loss: 0.2190\n",
      "Epoch 5/100, Loss: 0.2147\n",
      "Epoch 6/100, Loss: 0.2098\n",
      "Epoch 7/100, Loss: 0.2035\n",
      "Epoch 8/100, Loss: 0.1939\n",
      "Epoch 9/100, Loss: 0.1774\n",
      "Epoch 10/100, Loss: 0.1488\n",
      "Epoch 11/100, Loss: 0.1045\n",
      "Epoch 12/100, Loss: 0.0721\n",
      "Epoch 13/100, Loss: 0.0691\n",
      "Epoch 14/100, Loss: 0.0684\n",
      "Epoch 15/100, Loss: 0.0680\n",
      "Epoch 16/100, Loss: 0.0679\n",
      "Epoch 17/100, Loss: 0.0677\n",
      "Epoch 18/100, Loss: 0.0677\n",
      "Epoch 19/100, Loss: 0.0676\n",
      "Epoch 20/100, Loss: 0.0675\n",
      "Epoch 21/100, Loss: 0.0675\n",
      "Epoch 22/100, Loss: 0.0675\n",
      "Epoch 23/100, Loss: 0.0675\n",
      "Epoch 24/100, Loss: 0.0674\n",
      "Epoch 25/100, Loss: 0.0674\n",
      "Epoch 26/100, Loss: 0.0674\n",
      "Epoch 27/100, Loss: 0.0674\n",
      "Epoch 28/100, Loss: 0.0674\n",
      "Epoch 29/100, Loss: 0.0674\n",
      "Epoch 30/100, Loss: 0.0674\n",
      "Epoch 31/100, Loss: 0.0674\n",
      "Epoch 32/100, Loss: 0.0674\n",
      "Epoch 33/100, Loss: 0.0674\n",
      "Epoch 34/100, Loss: 0.0674\n",
      "Epoch 35/100, Loss: 0.0675\n",
      "Epoch 36/100, Loss: 0.0676\n",
      "Epoch 37/100, Loss: 0.0679\n",
      "Epoch 38/100, Loss: 0.0683\n",
      "Epoch 39/100, Loss: 0.0690\n",
      "Epoch 40/100, Loss: 0.0692\n",
      "Epoch 41/100, Loss: 0.0697\n",
      "Epoch 42/100, Loss: 0.0691\n",
      "Epoch 43/100, Loss: 0.0691\n",
      "Epoch 44/100, Loss: 0.0686\n",
      "Epoch 45/100, Loss: 0.0685\n",
      "Epoch 46/100, Loss: 0.0682\n",
      "Epoch 47/100, Loss: 0.0682\n",
      "Epoch 48/100, Loss: 0.0680\n",
      "Epoch 49/100, Loss: 0.0680\n",
      "Epoch 50/100, Loss: 0.0679\n",
      "Epoch 51/100, Loss: 0.0679\n",
      "Epoch 52/100, Loss: 0.0679\n",
      "Epoch 53/100, Loss: 0.0679\n",
      "Epoch 54/100, Loss: 0.0678\n",
      "Epoch 55/100, Loss: 0.0679\n",
      "Epoch 56/100, Loss: 0.0678\n",
      "Epoch 57/100, Loss: 0.0679\n",
      "Epoch 58/100, Loss: 0.0679\n",
      "Epoch 59/100, Loss: 0.0679\n",
      "Epoch 60/100, Loss: 0.0679\n",
      "Epoch 61/100, Loss: 0.0679\n",
      "Epoch 62/100, Loss: 0.0679\n",
      "Epoch 63/100, Loss: 0.0679\n",
      "Epoch 64/100, Loss: 0.0679\n",
      "Epoch 65/100, Loss: 0.0679\n",
      "Epoch 66/100, Loss: 0.0678\n",
      "Epoch 67/100, Loss: 0.0678\n",
      "Epoch 68/100, Loss: 0.0678\n",
      "Epoch 69/100, Loss: 0.0678\n",
      "Epoch 70/100, Loss: 0.0678\n",
      "Epoch 71/100, Loss: 0.0678\n",
      "Epoch 72/100, Loss: 0.0678\n",
      "Epoch 73/100, Loss: 0.0678\n",
      "Epoch 74/100, Loss: 0.0677\n",
      "Epoch 75/100, Loss: 0.0678\n",
      "Epoch 76/100, Loss: 0.0677\n",
      "Epoch 77/100, Loss: 0.0677\n",
      "Epoch 78/100, Loss: 0.0677\n",
      "Epoch 79/100, Loss: 0.0677\n",
      "Epoch 80/100, Loss: 0.0677\n",
      "Epoch 81/100, Loss: 0.0677\n",
      "Epoch 82/100, Loss: 0.0677\n",
      "Epoch 83/100, Loss: 0.0677\n",
      "Epoch 84/100, Loss: 0.0677\n",
      "Epoch 85/100, Loss: 0.0677\n",
      "Epoch 86/100, Loss: 0.0677\n",
      "Epoch 87/100, Loss: 0.0677\n",
      "Epoch 88/100, Loss: 0.0677\n",
      "Epoch 89/100, Loss: 0.0677\n",
      "Epoch 90/100, Loss: 0.0677\n",
      "Epoch 91/100, Loss: 0.0677\n",
      "Epoch 92/100, Loss: 0.0677\n",
      "Epoch 93/100, Loss: 0.0677\n",
      "Epoch 94/100, Loss: 0.0676\n",
      "Epoch 95/100, Loss: 0.0677\n",
      "Epoch 96/100, Loss: 0.0676\n",
      "Epoch 97/100, Loss: 0.0676\n",
      "Epoch 98/100, Loss: 0.0676\n",
      "Epoch 99/100, Loss: 0.0676\n",
      "Epoch 100/100, Loss: 0.0676\n"
     ]
    },
    {
     "data": {
      "image/png": "[encoded data removed]",
      "text/plain": [
       "<Figure size 640x480 with 1 Axes>"
      ]
     },
     "metadata": {},
     "output_type": "display_data"
    },
    {
     "data": {
      "image/png": "[encoded data removed]",
      "text/plain": [
       "<Figure size 640x480 with 1 Axes>"
      ]
     },
     "metadata": {},
     "output_type": "display_data"
    }
   ],
   "source": [
    "model = Sequential([\n",
    "    Dense(input_dim=784, output_dim=512),\n",
    "    Relu(),\n",
    "    Dense(input_dim=512, output_dim=256),\n",
    "    Relu(),\n",
    "    Dense(input_dim=256, output_dim=64),\n",
    "    Relu(),\n",
    "    Dense(input_dim=64, output_dim=32),\n",
    "    Relu(),\n",
    "    Dense(input_dim=32, output_dim=64),\n",
    "    Relu(),\n",
    "    Dense(input_dim=64, output_dim=256),\n",
    "    Relu(),\n",
    "    Dense(input_dim=256, output_dim=512),\n",
    "    Relu(),\n",
    "    Dense(input_dim=512, output_dim=784),\n",
    "    Sigmoid()\n",
    "])\n",
    "\n",
    "# Prepare training data\n",
    "X_train_noisy = add_gaussian_noise(X_train_scaled.reshape(-1, 784))\n",
    "y_train = X_train_scaled.reshape(-1, 784)  # Targets are the original images\n",
    "train(model, MeanSquaredError(), X_train_noisy, y_train, epochs=100, eta=0.1)\n",
    "# Test the model\n",
    "X_test_noisy = add_gaussian_noise(X_test_scaled.reshape(-1, 784))\n",
    "predictions = predict(model, X_test_noisy)\n",
    "# Reshape predictions back to image format\n",
    "predictions_reshaped = predictions.reshape(-1, 28, 28)\n",
    "# Display the first test image and its denoised prediction\n",
    "show_image(X_test_scaled[0])\n",
    "show_image(predictions_reshaped[0])"
   ]
  },
  {
   "cell_type": "markdown",
   "id": "8a8495ba",
   "metadata": {},
   "source": [
    "#### Reflections:\n",
    "Results after 100 epochs are not that promising but the dense implementation of the DAE did seem to get rid of the noise, reconstruction of the image however is not there. Ideally I would want to proceed with parameter tuning and also include a validation set to track the validation loss but this project was mainly an exercise in understanding how to structure and develop neural networks from the bottom up. In future projects I would also like to inspect the latent space layer to track how changes in the input translate into embedding space."
   ]
  },
  {
   "cell_type": "markdown",
   "id": "3932b2c9",
   "metadata": {},
   "source": []
  }
 ],
 "metadata": {
  "kernelspec": {
   "display_name": "tfenv",
   "language": "python",
   "name": "python3"
  },
  "language_info": {
   "codemirror_mode": {
    "name": "ipython",
    "version": 3
   },
   "file_extension": ".py",
   "mimetype": "text/x-python",
   "name": "python",
   "nbconvert_exporter": "python",
   "pygments_lexer": "ipython3",
   "version": "3.10.18"
  }
 },
 "nbformat": 4,
 "nbformat_minor": 5
}
